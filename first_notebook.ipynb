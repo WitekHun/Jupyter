{
 "cells": [
  {
   "cell_type": "markdown",
   "id": "1c724efb",
   "metadata": {},
   "source": [
    "# Sekcja nr 1\n",
    "definiowanie funkcji\n"
   ]
  },
  {
   "cell_type": "code",
   "execution_count": 4,
   "id": "06817f44",
   "metadata": {},
   "outputs": [],
   "source": [
    "def funkcja(a,b):\n",
    "    print(a+b)"
   ]
  },
  {
   "cell_type": "raw",
   "id": "77350c2a",
   "metadata": {},
   "source": [
    "funkcja nazywa się funkcja i przyjmuje dwa arguenty a i b"
   ]
  },
  {
   "cell_type": "raw",
   "id": "ba8b5bdd",
   "metadata": {},
   "source": [
    "to jest blok funkcji, funkcja dla podanych argumentów a i b wyświetli wynik ich sumy"
   ]
  },
  {
   "cell_type": "markdown",
   "id": "23c548e7",
   "metadata": {},
   "source": [
    "## Sekcja nr 2\n",
    "uruchamianie funkcji"
   ]
  },
  {
   "cell_type": "code",
   "execution_count": 5,
   "id": "7ea333f6",
   "metadata": {},
   "outputs": [
    {
     "name": "stdout",
     "output_type": "stream",
     "text": [
      "5\n"
     ]
    }
   ],
   "source": [
    "funkcja(2,3)"
   ]
  },
  {
   "cell_type": "raw",
   "id": "3bc971c6",
   "metadata": {},
   "source": [
    "w nawiasach podajemy argumenty funkcji"
   ]
  }
 ],
 "metadata": {
  "kernelspec": {
   "display_name": "Python 3 (ipykernel)",
   "language": "python",
   "name": "python3"
  },
  "language_info": {
   "codemirror_mode": {
    "name": "ipython",
    "version": 3
   },
   "file_extension": ".py",
   "mimetype": "text/x-python",
   "name": "python",
   "nbconvert_exporter": "python",
   "pygments_lexer": "ipython3",
   "version": "3.11.1"
  }
 },
 "nbformat": 4,
 "nbformat_minor": 5
}
